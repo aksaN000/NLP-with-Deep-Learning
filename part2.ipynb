{
  "nbformat": 4,
  "nbformat_minor": 0,
  "metadata": {
    "colab": {
      "provenance": []
    },
    "kernelspec": {
      "name": "python3",
      "display_name": "Python 3"
    },
    "language_info": {
      "name": "python"
    }
  },
  "cells": [
    {
      "cell_type": "markdown",
      "source": [
        "# Required libraries"
      ],
      "metadata": {
        "id": "FMEIF-wd-TEl"
      }
    },
    {
      "cell_type": "code",
      "source": [
        "import pandas as pd\n",
        "import numpy as np\n",
        "import re\n",
        "import string\n",
        "import sys\n",
        "import time\n",
        "import nltk\n",
        "from nltk.corpus import reuters\n",
        "from nltk.tokenize import word_tokenize\n",
        "from nltk.corpus import stopwords\n",
        "from gensim.models import Word2Vec\n",
        "from collections import Counter, defaultdict\n",
        "from sklearn.decomposition import PCA\n",
        "from sklearn.feature_extraction.text import TfidfVectorizer\n",
        "from sklearn.model_selection import train_test_split\n",
        "from sklearn.linear_model import LogisticRegression\n",
        "from sklearn.metrics import f1_score, confusion_matrix, classification_report, accuracy_score\n",
        "import matplotlib.pyplot as plt\n",
        "import seaborn as sns\n",
        "!pip install gensim nltk scikit-learn matplotlib seaborn wordcloud\n",
        "!python -m nltk.downloader reuters punkt stopwords\n",
        "print(\"All libraries imported successfully!\")\n",
        "print(\"Python version:\", sys.version)"
      ],
      "metadata": {
        "colab": {
          "base_uri": "https://localhost:8080/"
        },
        "collapsed": true,
        "id": "9RDRr9H8-XP_",
        "outputId": "8f536482-60b7-4ea6-ab65-33e5057fc863"
      },
      "execution_count": 8,
      "outputs": [
        {
          "output_type": "stream",
          "name": "stdout",
          "text": [
            "Requirement already satisfied: gensim in /usr/local/lib/python3.11/dist-packages (4.3.3)\n",
            "Requirement already satisfied: nltk in /usr/local/lib/python3.11/dist-packages (3.9.1)\n",
            "Requirement already satisfied: scikit-learn in /usr/local/lib/python3.11/dist-packages (1.6.1)\n",
            "Requirement already satisfied: matplotlib in /usr/local/lib/python3.11/dist-packages (3.10.0)\n",
            "Requirement already satisfied: seaborn in /usr/local/lib/python3.11/dist-packages (0.13.2)\n",
            "Requirement already satisfied: wordcloud in /usr/local/lib/python3.11/dist-packages (1.9.4)\n",
            "Requirement already satisfied: numpy<2.0,>=1.18.5 in /usr/local/lib/python3.11/dist-packages (from gensim) (1.26.4)\n",
            "Requirement already satisfied: scipy<1.14.0,>=1.7.0 in /usr/local/lib/python3.11/dist-packages (from gensim) (1.13.1)\n",
            "Requirement already satisfied: smart-open>=1.8.1 in /usr/local/lib/python3.11/dist-packages (from gensim) (7.3.0.post1)\n",
            "Requirement already satisfied: click in /usr/local/lib/python3.11/dist-packages (from nltk) (8.2.1)\n",
            "Requirement already satisfied: joblib in /usr/local/lib/python3.11/dist-packages (from nltk) (1.5.1)\n",
            "Requirement already satisfied: regex>=2021.8.3 in /usr/local/lib/python3.11/dist-packages (from nltk) (2024.11.6)\n",
            "Requirement already satisfied: tqdm in /usr/local/lib/python3.11/dist-packages (from nltk) (4.67.1)\n",
            "Requirement already satisfied: threadpoolctl>=3.1.0 in /usr/local/lib/python3.11/dist-packages (from scikit-learn) (3.6.0)\n",
            "Requirement already satisfied: contourpy>=1.0.1 in /usr/local/lib/python3.11/dist-packages (from matplotlib) (1.3.3)\n",
            "Requirement already satisfied: cycler>=0.10 in /usr/local/lib/python3.11/dist-packages (from matplotlib) (0.12.1)\n",
            "Requirement already satisfied: fonttools>=4.22.0 in /usr/local/lib/python3.11/dist-packages (from matplotlib) (4.59.0)\n",
            "Requirement already satisfied: kiwisolver>=1.3.1 in /usr/local/lib/python3.11/dist-packages (from matplotlib) (1.4.9)\n",
            "Requirement already satisfied: packaging>=20.0 in /usr/local/lib/python3.11/dist-packages (from matplotlib) (25.0)\n",
            "Requirement already satisfied: pillow>=8 in /usr/local/lib/python3.11/dist-packages (from matplotlib) (11.3.0)\n",
            "Requirement already satisfied: pyparsing>=2.3.1 in /usr/local/lib/python3.11/dist-packages (from matplotlib) (3.2.3)\n",
            "Requirement already satisfied: python-dateutil>=2.7 in /usr/local/lib/python3.11/dist-packages (from matplotlib) (2.9.0.post0)\n",
            "Requirement already satisfied: pandas>=1.2 in /usr/local/lib/python3.11/dist-packages (from seaborn) (2.2.2)\n",
            "Requirement already satisfied: pytz>=2020.1 in /usr/local/lib/python3.11/dist-packages (from pandas>=1.2->seaborn) (2025.2)\n",
            "Requirement already satisfied: tzdata>=2022.7 in /usr/local/lib/python3.11/dist-packages (from pandas>=1.2->seaborn) (2025.2)\n",
            "Requirement already satisfied: six>=1.5 in /usr/local/lib/python3.11/dist-packages (from python-dateutil>=2.7->matplotlib) (1.17.0)\n",
            "Requirement already satisfied: wrapt in /usr/local/lib/python3.11/dist-packages (from smart-open>=1.8.1->gensim) (1.17.3)\n",
            "<frozen runpy>:128: RuntimeWarning: 'nltk.downloader' found in sys.modules after import of package 'nltk', but prior to execution of 'nltk.downloader'; this may result in unpredictable behaviour\n",
            "[nltk_data] Downloading package reuters to /root/nltk_data...\n",
            "[nltk_data]   Package reuters is already up-to-date!\n",
            "[nltk_data] Downloading package punkt to /root/nltk_data...\n",
            "[nltk_data]   Package punkt is already up-to-date!\n",
            "[nltk_data] Downloading package stopwords to /root/nltk_data...\n",
            "[nltk_data]   Package stopwords is already up-to-date!\n",
            "All libraries imported successfully!\n",
            "Python version: 3.11.13 (main, Jun  4 2025, 08:57:29) [GCC 11.4.0]\n"
          ]
        }
      ]
    },
    {
      "cell_type": "markdown",
      "source": [
        "# Problem 01:\n",
        "\n",
        "Download the IMDB movie review dataset and preprocess the text by tokenizing, converting it to lowercase, and removing punctuation. Next, apply a TF-IDF vectorizer (sklearn.feature_extraction.text.TfidfVectorizer) to transform the corpus into TF-IDF embeddings. Split the dataset into 70% training and 30% testing data, ensuring stratification. Train a Logistic Regression model using the scikit-learn library and evaluate its performance by computing the F1 score. Report the confusion matrix along with the classification report."
      ],
      "metadata": {
        "id": "7yjutQOgD9k6"
      }
    },
    {
      "cell_type": "markdown",
      "source": [
        "## Problem 01: Load the Dataset & EDA"
      ],
      "metadata": {
        "id": "52KRN832BO0j"
      }
    },
    {
      "cell_type": "code",
      "source": [
        "print(\"=== STEP 2: Loading IMDB Dataset ===\")\n",
        "# Upload the dataset file to Colab\n",
        "dataset_path = '/content/drive/MyDrive/440/IMDB Dataset.csv'\n",
        "\n",
        "# Load the dataset\n",
        "df = pd.read_csv(dataset_path)\n",
        "print(f\"Dataset shape: {df.shape}\")\n",
        "print(f\"Columns: {df.columns.tolist()}\")\n",
        "print(\"\\nFirst 5 rows:\")\n",
        "print(df.head())\n",
        "\n",
        "# Check for missing values\n",
        "print(f\"\\nMissing values:\\n{df.isnull().sum()}\")\n",
        "\n",
        "# Check class distribution\n",
        "print(f\"\\nClass distribution:\\n{df['sentiment'].value_counts()}\")\n"
      ],
      "metadata": {
        "colab": {
          "base_uri": "https://localhost:8080/"
        },
        "id": "u4kbuIQKA4Lo",
        "outputId": "97940b7b-0c02-46a5-b32d-b04ccb6d9b2a"
      },
      "execution_count": 9,
      "outputs": [
        {
          "output_type": "stream",
          "name": "stdout",
          "text": [
            "=== STEP 2: Loading IMDB Dataset ===\n",
            "Dataset shape: (50000, 2)\n",
            "Columns: ['review', 'sentiment']\n",
            "\n",
            "First 5 rows:\n",
            "                                              review sentiment\n",
            "0  One of the other reviewers has mentioned that ...  positive\n",
            "1  A wonderful little production. <br /><br />The...  positive\n",
            "2  I thought this was a wonderful way to spend ti...  positive\n",
            "3  Basically there's a family where a little boy ...  negative\n",
            "4  Petter Mattei's \"Love in the Time of Money\" is...  positive\n",
            "\n",
            "Missing values:\n",
            "review       0\n",
            "sentiment    0\n",
            "dtype: int64\n",
            "\n",
            "Class distribution:\n",
            "sentiment\n",
            "positive    25000\n",
            "negative    25000\n",
            "Name: count, dtype: int64\n"
          ]
        }
      ]
    },
    {
      "cell_type": "markdown",
      "source": [
        "## Problem 01: Text Preprocessing"
      ],
      "metadata": {
        "id": "nYqtHRhoBYNF"
      }
    },
    {
      "cell_type": "code",
      "source": [
        "def preprocess_text(text):\n",
        "    # Convert to lowercase\n",
        "    text = text.lower()\n",
        "\n",
        "    # Remove HTML tags (common in IMDB reviews)\n",
        "    text = re.sub(r'<.*?>', '', text)\n",
        "\n",
        "    # Remove URLs\n",
        "    text = re.sub(r'http\\S+', '', text)\n",
        "\n",
        "    # Remove punctuation and numbers\n",
        "    text = re.sub(r'[^a-zA-Z\\s]', '', text)\n",
        "\n",
        "    # Remove extra whitespaces\n",
        "    text = ' '.join(text.split())\n",
        "\n",
        "    return text\n",
        "\n",
        "# Apply preprocessing to the reviews\n",
        "print(\"Preprocessing text data...\")\n",
        "df['processed_review'] = df['review'].apply(preprocess_text)\n",
        "\n",
        "# Display preprocessing results\n",
        "print(\"\\nOriginal vs Processed examples:\")\n",
        "for i in range(2):\n",
        "    print(f\"\\nExample {i+1}:\")\n",
        "    print(f\"Original: {df['review'].iloc[i][:200]}...\")\n",
        "    print(f\"Processed: {df['processed_review'].iloc[i][:200]}...\")\n"
      ],
      "metadata": {
        "colab": {
          "base_uri": "https://localhost:8080/"
        },
        "id": "inuME4TiBbVS",
        "outputId": "04f821ee-ec16-4a47-8639-d7001bbeb7ca"
      },
      "execution_count": 10,
      "outputs": [
        {
          "output_type": "stream",
          "name": "stdout",
          "text": [
            "Preprocessing text data...\n",
            "\n",
            "Original vs Processed examples:\n",
            "\n",
            "Example 1:\n",
            "Original: One of the other reviewers has mentioned that after watching just 1 Oz episode you'll be hooked. They are right, as this is exactly what happened with me.<br /><br />The first thing that struck me abo...\n",
            "Processed: one of the other reviewers has mentioned that after watching just oz episode youll be hooked they are right as this is exactly what happened with methe first thing that struck me about oz was its brut...\n",
            "\n",
            "Example 2:\n",
            "Original: A wonderful little production. <br /><br />The filming technique is very unassuming- very old-time-BBC fashion and gives a comforting, and sometimes discomforting, sense of realism to the entire piece...\n",
            "Processed: a wonderful little production the filming technique is very unassuming very oldtimebbc fashion and gives a comforting and sometimes discomforting sense of realism to the entire piece the actors are ex...\n"
          ]
        }
      ]
    },
    {
      "cell_type": "markdown",
      "source": [
        "## Problem 01: Prepare Data for Model Training"
      ],
      "metadata": {
        "id": "S4mQFbvMBot5"
      }
    },
    {
      "cell_type": "code",
      "source": [
        "# Extract features (X) and labels (y)\n",
        "X = df['processed_review']\n",
        "y = df['sentiment'].map({'positive': 1, 'negative': 0})  # Convert to binary\n",
        "\n",
        "print(f\"Feature vector length: {len(X)}\")\n",
        "print(f\"Label distribution after encoding:\\n{y.value_counts()}\")\n",
        "\n",
        "# Step 5: Train-Test Split with Stratification\n",
        "print(\"\\n=== STEP 5: Train-Test Split ===\")\n",
        "\n",
        "X_train, X_test, y_train, y_test = train_test_split(\n",
        "    X, y,\n",
        "    test_size=0.3,           # 30% for testing\n",
        "    random_state=42,         # For reproducibility\n",
        "    stratify=y               # Maintain class distribution\n",
        ")\n",
        "\n",
        "print(f\"Training set size: {len(X_train)}\")\n",
        "print(f\"Testing set size: {len(X_test)}\")\n",
        "print(f\"Training set class distribution:\\n{y_train.value_counts()}\")\n",
        "print(f\"Testing set class distribution:\\n{y_test.value_counts()}\")\n"
      ],
      "metadata": {
        "colab": {
          "base_uri": "https://localhost:8080/"
        },
        "id": "4s5y5uqFBqxl",
        "outputId": "34b9122e-48e4-4c62-e62d-d1cab676d98a"
      },
      "execution_count": 11,
      "outputs": [
        {
          "output_type": "stream",
          "name": "stdout",
          "text": [
            "Feature vector length: 50000\n",
            "Label distribution after encoding:\n",
            "sentiment\n",
            "1    25000\n",
            "0    25000\n",
            "Name: count, dtype: int64\n",
            "\n",
            "=== STEP 5: Train-Test Split ===\n",
            "Training set size: 35000\n",
            "Testing set size: 15000\n",
            "Training set class distribution:\n",
            "sentiment\n",
            "1    17500\n",
            "0    17500\n",
            "Name: count, dtype: int64\n",
            "Testing set class distribution:\n",
            "sentiment\n",
            "0    7500\n",
            "1    7500\n",
            "Name: count, dtype: int64\n"
          ]
        }
      ]
    },
    {
      "cell_type": "markdown",
      "source": [
        "## Problem 01: TF-IDF Vectorization"
      ],
      "metadata": {
        "id": "LdrFt6eHB5MB"
      }
    },
    {
      "cell_type": "code",
      "source": [
        "# Initialize TF-IDF Vectorizer with optimized parameters\n",
        "tfidf_vectorizer = TfidfVectorizer(\n",
        "    max_features=10000,      # Limit vocabulary size for efficiency\n",
        "    stop_words='english',    # Remove common English stop words\n",
        "    ngram_range=(1, 2),      # Use unigrams and bigrams\n",
        "    min_df=2,                # Ignore terms that appear in less than 2 documents\n",
        "    max_df=0.95              # Ignore terms that appear in more than 95% of documents\n",
        ")\n",
        "\n",
        "# Fit and transform training data\n",
        "print(\"Fitting TF-IDF vectorizer on training data...\")\n",
        "X_train_tfidf = tfidf_vectorizer.fit_transform(X_train)\n",
        "\n",
        "# Transform test data\n",
        "print(\"Transforming test data...\")\n",
        "X_test_tfidf = tfidf_vectorizer.transform(X_test)\n",
        "\n",
        "print(f\"TF-IDF matrix shape (train): {X_train_tfidf.shape}\")\n",
        "print(f\"TF-IDF matrix shape (test): {X_test_tfidf.shape}\")\n",
        "print(f\"Vocabulary size: {len(tfidf_vectorizer.vocabulary_)}\")\n"
      ],
      "metadata": {
        "colab": {
          "base_uri": "https://localhost:8080/"
        },
        "id": "LpbUxtCVB5jI",
        "outputId": "4ba099a6-8cb9-4c1d-b544-7ffca8d49496"
      },
      "execution_count": 12,
      "outputs": [
        {
          "output_type": "stream",
          "name": "stdout",
          "text": [
            "Fitting TF-IDF vectorizer on training data...\n",
            "Transforming test data...\n",
            "TF-IDF matrix shape (train): (35000, 10000)\n",
            "TF-IDF matrix shape (test): (15000, 10000)\n",
            "Vocabulary size: 10000\n"
          ]
        }
      ]
    },
    {
      "cell_type": "markdown",
      "source": [
        "## Problem 01: Model Training"
      ],
      "metadata": {
        "id": "pnMtw_-ACNmF"
      }
    },
    {
      "cell_type": "code",
      "source": [
        "# Initialize Logistic Regression model\n",
        "lr_model = LogisticRegression(\n",
        "    random_state=42,         # For reproducibility\n",
        "    max_iter=1000,           # Increase iterations for convergence\n",
        "    solver='liblinear'       # Good solver for this problem size\n",
        ")\n",
        "\n",
        "# Train the model\n",
        "print(\"Training Logistic Regression model...\")\n",
        "lr_model.fit(X_train_tfidf, y_train)\n",
        "\n",
        "print(\"Model training completed!\")\n",
        "print(f\"Model coefficients shape: {lr_model.coef_.shape}\")\n",
        "print(f\"Model intercept: {lr_model.intercept_}\")"
      ],
      "metadata": {
        "colab": {
          "base_uri": "https://localhost:8080/"
        },
        "id": "0x0DhGDyCN3P",
        "outputId": "7a4684bc-d28f-42f2-efc0-c68bbcd5c8ee"
      },
      "execution_count": 13,
      "outputs": [
        {
          "output_type": "stream",
          "name": "stdout",
          "text": [
            "Training Logistic Regression model...\n",
            "Model training completed!\n",
            "Model coefficients shape: (1, 10000)\n",
            "Model intercept: [0.03181588]\n"
          ]
        }
      ]
    },
    {
      "cell_type": "markdown",
      "source": [
        "## Problem 01: Model Prediction and Evaluation"
      ],
      "metadata": {
        "id": "olptWyMNCWlG"
      }
    },
    {
      "cell_type": "code",
      "source": [
        "# Make predictions on test set\n",
        "y_pred = lr_model.predict(X_test_tfidf)\n",
        "\n",
        "# Calculate F1 Score\n",
        "f1 = f1_score(y_test, y_pred)\n",
        "print(f\"F1 Score: {f1:.4f}\")\n",
        "\n",
        "# Generate Classification Report\n",
        "print(\"\\nClassification Report:\")\n",
        "class_report = classification_report(y_test, y_pred, target_names=['Negative', 'Positive'])\n",
        "print(class_report)\n",
        "\n",
        "# Calculate and Display Confusion Matrix\n",
        "print(\"\\nConfusion Matrix:\")\n",
        "cm = confusion_matrix(y_test, y_pred)\n",
        "print(cm)\n"
      ],
      "metadata": {
        "colab": {
          "base_uri": "https://localhost:8080/"
        },
        "id": "bK3dQqlmCYe4",
        "outputId": "ac590f55-193f-49ec-ac26-859fc6cf8c33"
      },
      "execution_count": 14,
      "outputs": [
        {
          "output_type": "stream",
          "name": "stdout",
          "text": [
            "F1 Score: 0.8931\n",
            "\n",
            "Classification Report:\n",
            "              precision    recall  f1-score   support\n",
            "\n",
            "    Negative       0.90      0.88      0.89      7500\n",
            "    Positive       0.88      0.90      0.89      7500\n",
            "\n",
            "    accuracy                           0.89     15000\n",
            "   macro avg       0.89      0.89      0.89     15000\n",
            "weighted avg       0.89      0.89      0.89     15000\n",
            "\n",
            "\n",
            "Confusion Matrix:\n",
            "[[6599  901]\n",
            " [ 721 6779]]\n"
          ]
        }
      ]
    },
    {
      "cell_type": "markdown",
      "source": [
        "## Problem 01: Visualization"
      ],
      "metadata": {
        "id": "uzkLu_IlCe5X"
      }
    },
    {
      "cell_type": "code",
      "source": [
        "# Create figure with subplots\n",
        "fig, axes = plt.subplots(1, 2, figsize=(15, 6))\n",
        "\n",
        "# Plot 1: Confusion Matrix Heatmap\n",
        "sns.heatmap(cm, annot=True, fmt='d', cmap='Blues',\n",
        "            xticklabels=['Negative', 'Positive'],\n",
        "            yticklabels=['Negative', 'Positive'],\n",
        "            ax=axes[0])\n",
        "axes[0].set_title('Confusion Matrix')\n",
        "axes[0].set_xlabel('Predicted Label')\n",
        "axes[0].set_ylabel('True Label')\n",
        "\n",
        "# Plot 2: Performance Metrics Bar Chart\n",
        "metrics = ['Precision', 'Recall', 'F1-Score']\n",
        "# Calculate metrics for positive class\n",
        "from sklearn.metrics import precision_score, recall_score\n",
        "precision = precision_score(y_test, y_pred)\n",
        "recall = recall_score(y_test, y_pred)\n",
        "values = [precision, recall, f1]\n",
        "\n",
        "axes[1].bar(metrics, values, color=['skyblue', 'lightgreen', 'coral'])\n",
        "axes[1].set_title('Model Performance Metrics')\n",
        "axes[1].set_ylabel('Score')\n",
        "axes[1].set_ylim(0, 1)\n",
        "\n",
        "# Add value labels on bars\n",
        "for i, v in enumerate(values):\n",
        "    axes[1].text(i, v + 0.01, f'{v:.3f}', ha='center')\n",
        "\n",
        "plt.tight_layout()\n",
        "plt.show()"
      ],
      "metadata": {
        "colab": {
          "base_uri": "https://localhost:8080/",
          "height": 607
        },
        "id": "_mKK5ycTCgnU",
        "outputId": "d68d3ff9-bd92-4a8d-86bf-16933d628a11"
      },
      "execution_count": 15,
      "outputs": [
        {
          "output_type": "display_data",
          "data": {
            "text/plain": [
              "<Figure size 1500x600 with 3 Axes>"
            ],
            "image/png": "[encoded data removed]"
          },
          "metadata": {}
        }
      ]
    },
    {
      "cell_type": "markdown",
      "source": [
        "## Problem 01: Feature Analysis"
      ],
      "metadata": {
        "id": "oAcMSeNDCoqk"
      }
    },
    {
      "cell_type": "code",
      "source": [
        "feature_names = tfidf_vectorizer.get_feature_names_out()\n",
        "\n",
        "# Get coefficients (weights) for each feature\n",
        "coefficients = lr_model.coef_[0]\n",
        "\n",
        "# Create feature importance dataframe\n",
        "feature_importance = pd.DataFrame({\n",
        "    'feature': feature_names,\n",
        "    'coefficient': coefficients\n",
        "})\n",
        "\n",
        "# Sort by absolute coefficient value\n",
        "feature_importance['abs_coef'] = np.abs(feature_importance['coefficient'])\n",
        "feature_importance = feature_importance.sort_values('abs_coef', ascending=False)\n",
        "\n",
        "# Display top positive and negative features\n",
        "print(\"Top 10 Most Positive Features (indicating positive sentiment):\")\n",
        "top_positive = feature_importance.nlargest(10, 'coefficient')\n",
        "print(top_positive[['feature', 'coefficient']])\n",
        "\n",
        "print(\"\\nTop 10 Most Negative Features (indicating negative sentiment):\")\n",
        "top_negative = feature_importance.nsmallest(10, 'coefficient')\n",
        "print(top_negative[['feature', 'coefficient']])"
      ],
      "metadata": {
        "colab": {
          "base_uri": "https://localhost:8080/"
        },
        "id": "pk0qyfnGCqLr",
        "outputId": "379a6339-3575-4675-f06e-a7f76bf59e0c"
      },
      "execution_count": 16,
      "outputs": [
        {
          "output_type": "stream",
          "name": "stdout",
          "text": [
            "Top 10 Most Positive Features (indicating positive sentiment):\n",
            "        feature  coefficient\n",
            "3788      great     6.924499\n",
            "2845  excellent     6.503340\n",
            "748        best     5.348076\n",
            "6566    perfect     5.161511\n",
            "284     amazing     4.857196\n",
            "9829  wonderful     4.610800\n",
            "5317      loved     4.473919\n",
            "3501        fun     4.251170\n",
            "4089  hilarious     4.167846\n",
            "3045   favorite     4.138622\n",
            "\n",
            "Top 10 Most Negative Features (indicating negative sentiment):\n",
            "       feature  coefficient\n",
            "9872     worst    -9.129192\n",
            "556      awful    -7.559743\n",
            "580        bad    -7.526873\n",
            "9643     waste    -6.895207\n",
            "921     boring    -5.968244\n",
            "6767      poor    -5.768928\n",
            "8885  terrible    -5.347464\n",
            "9870     worse    -5.295167\n",
            "4185  horrible    -5.071830\n",
            "6771    poorly    -4.799623\n"
          ]
        }
      ]
    },
    {
      "cell_type": "markdown",
      "source": [
        "## Problem 01: Model Testing with Custom Reviews"
      ],
      "metadata": {
        "id": "hE5APmD_C3Dl"
      }
    },
    {
      "cell_type": "code",
      "source": [
        "def predict_sentiment(review_text):\n",
        "    \"\"\"\n",
        "    Predict sentiment for a custom review\n",
        "\n",
        "    Args:\n",
        "        review_text (str): Raw review text\n",
        "\n",
        "    Returns:\n",
        "        tuple: (prediction, probability)\n",
        "    \"\"\"\n",
        "    # Preprocess the text\n",
        "    processed_text = preprocess_text(review_text)\n",
        "\n",
        "    # Transform using fitted TF-IDF vectorizer\n",
        "    text_tfidf = tfidf_vectorizer.transform([processed_text])\n",
        "\n",
        "    # Make prediction\n",
        "    prediction = lr_model.predict(text_tfidf)[0]\n",
        "    probability = lr_model.predict_proba(text_tfidf)[0]\n",
        "\n",
        "    return prediction, probability\n",
        "\n",
        "# Test with sample reviews\n",
        "test_reviews = [\n",
        "    \"This movie was absolutely amazing! Great acting and fantastic plot.\",\n",
        "    \"Terrible movie. Waste of time. Poor acting and boring story.\",\n",
        "    \"The movie was okay. Nothing special but not terrible either.\"\n",
        "]\n",
        "\n",
        "print(\"Testing custom reviews:\")\n",
        "for i, review in enumerate(test_reviews, 1):\n",
        "    pred, prob = predict_sentiment(review)\n",
        "    sentiment = \"Positive\" if pred == 1 else \"Negative\"\n",
        "    confidence = max(prob)\n",
        "\n",
        "    print(f\"\\nReview {i}: {review}\")\n",
        "    print(f\"Predicted Sentiment: {sentiment}\")\n",
        "    print(f\"Confidence: {confidence:.3f}\")"
      ],
      "metadata": {
        "colab": {
          "base_uri": "https://localhost:8080/"
        },
        "id": "HTFQ1oYCC6gt",
        "outputId": "3fd0c6bb-c70a-4670-de6a-0081bb7293a0"
      },
      "execution_count": 17,
      "outputs": [
        {
          "output_type": "stream",
          "name": "stdout",
          "text": [
            "Testing custom reviews:\n",
            "\n",
            "Review 1: This movie was absolutely amazing! Great acting and fantastic plot.\n",
            "Predicted Sentiment: Positive\n",
            "Confidence: 0.972\n",
            "\n",
            "Review 2: Terrible movie. Waste of time. Poor acting and boring story.\n",
            "Predicted Sentiment: Negative\n",
            "Confidence: 1.000\n",
            "\n",
            "Review 3: The movie was okay. Nothing special but not terrible either.\n",
            "Predicted Sentiment: Negative\n",
            "Confidence: 0.983\n"
          ]
        }
      ]
    },
    {
      "cell_type": "markdown",
      "source": [
        "## Problem 01: Summary Statistics"
      ],
      "metadata": {
        "id": "Mjbfe9zSC_GO"
      }
    },
    {
      "cell_type": "code",
      "source": [
        "print(\"Final Summary:\")\n",
        "print(f\"Dataset Size: {len(df)} reviews\")\n",
        "print(f\"Training Accuracy: {lr_model.score(X_train_tfidf, y_train):.4f}\")\n",
        "print(f\"Testing Accuracy: {lr_model.score(X_test_tfidf, y_test):.4f}\")\n",
        "print(f\"F1 Score: {f1:.4f}\")\n",
        "print(f\"Vocabulary Size: {len(feature_names)}\")\n",
        "print(f\"Model Parameters: {lr_model.coef_.size}\")\n"
      ],
      "metadata": {
        "colab": {
          "base_uri": "https://localhost:8080/"
        },
        "id": "R5mMoKnvDAOX",
        "outputId": "bb363888-b262-4d07-af00-406485bc5eaa"
      },
      "execution_count": 18,
      "outputs": [
        {
          "output_type": "stream",
          "name": "stdout",
          "text": [
            "Final Summary:\n",
            "Dataset Size: 50000 reviews\n",
            "Training Accuracy: 0.9203\n",
            "Testing Accuracy: 0.8919\n",
            "F1 Score: 0.8931\n",
            "Vocabulary Size: 10000\n",
            "Model Parameters: 10000\n"
          ]
        }
      ]
    },
    {
      "cell_type": "markdown",
      "source": [
        "# Problem 2:\n",
        "Obtain the GloVe embeddings (glove.6B.100d.txt). Perform analogy tasks such as “Queen – Woman + Man” and check whether the resulting vector is closest to “King” using the GloVe embeddings."
      ],
      "metadata": {
        "id": "LEHgtU7zEfcF"
      }
    },
    {
      "cell_type": "markdown",
      "source": [],
      "metadata": {
        "id": "a1s1oOJ_EvCA"
      }
    },
    {
      "cell_type": "markdown",
      "source": [
        "## Problem 02: Load GloVe Embeddings"
      ],
      "metadata": {
        "id": "MHB47GdiF4SP"
      }
    },
    {
      "cell_type": "code",
      "source": [
        "glove_file = '/content/drive/MyDrive/440/glove.6B.100d.txt'\n",
        "def load_glove_embeddings(file_path):\n",
        "    start_time = time.time()\n",
        "\n",
        "    word_to_vec = {}\n",
        "    vocab = []\n",
        "    embedding_dim = None\n",
        "    skipped_words = 0\n",
        "\n",
        "    with open(file_path, 'r', encoding='utf-8') as f:\n",
        "        for line_num, line in enumerate(f):\n",
        "            try:\n",
        "                # Split line into word and vector components\n",
        "                values = line.strip().split()\n",
        "                if len(values) < 2:  # Skip empty or malformed lines\n",
        "                    continue\n",
        "\n",
        "                word = values[0]\n",
        "                vector_values = values[1:]\n",
        "\n",
        "                # Set expected dimension from first valid line\n",
        "                if embedding_dim is None:\n",
        "                    embedding_dim = len(vector_values)\n",
        "                    print(f\"Expected embedding dimension: {embedding_dim}\")\n",
        "\n",
        "                # Skip words with incorrect dimensions\n",
        "                if len(vector_values) != embedding_dim:\n",
        "                    skipped_words += 1\n",
        "                    continue\n",
        "\n",
        "                # Convert to numpy array\n",
        "                vector = np.array(vector_values, dtype=np.float32)\n",
        "\n",
        "                # Validate that conversion was successful\n",
        "                if vector.shape[0] != embedding_dim:\n",
        "                    skipped_words += 1\n",
        "                    continue\n",
        "\n",
        "                word_to_vec[word] = vector\n",
        "                vocab.append(word)\n",
        "\n",
        "                # Progress indicator\n",
        "                if (line_num + 1) % 50000 == 0:\n",
        "                    print(f\"Loaded {line_num + 1} lines, valid words: {len(vocab)}\")\n",
        "\n",
        "            except Exception as e:\n",
        "                skipped_words += 1\n",
        "                if line_num < 10:  # Show first few errors for debugging\n",
        "                    print(f\"Warning: Skipped line {line_num + 1}: {str(e)[:100]}\")\n",
        "                continue\n",
        "\n",
        "    load_time = time.time() - start_time\n",
        "\n",
        "    print(f\"\\nGloVe embeddings loaded successfully!\")\n",
        "    print(f\"Vocabulary size: {len(vocab):,}\")\n",
        "    print(f\"Embedding dimension: {embedding_dim}\")\n",
        "    print(f\"Skipped words (dimension mismatch): {skipped_words}\")\n",
        "    print(f\"Loading time: {load_time:.2f} seconds\")\n",
        "\n",
        "    return word_to_vec, vocab, embedding_dim\n",
        "\n",
        "# Load the embeddings\n",
        "word_to_vec, vocab, embedding_dim = load_glove_embeddings(glove_file)"
      ],
      "metadata": {
        "colab": {
          "base_uri": "https://localhost:8080/"
        },
        "id": "Ke67UHCSElL3",
        "outputId": "574de6a8-6fad-49d8-fd6f-bd5994f01fa7"
      },
      "execution_count": 19,
      "outputs": [
        {
          "output_type": "stream",
          "name": "stdout",
          "text": [
            "Expected embedding dimension: 100\n",
            "Loaded 50000 lines, valid words: 50000\n",
            "Loaded 100000 lines, valid words: 100000\n",
            "Loaded 150000 lines, valid words: 150000\n",
            "Loaded 200000 lines, valid words: 200000\n",
            "\n",
            "GloVe embeddings loaded successfully!\n",
            "Vocabulary size: 213,800\n",
            "Embedding dimension: 100\n",
            "Skipped words (dimension mismatch): 1\n",
            "Loading time: 5.93 seconds\n"
          ]
        }
      ]
    },
    {
      "cell_type": "markdown",
      "source": [
        "## Problem 02: Utility Functions for Word Operations"
      ],
      "metadata": {
        "id": "0n3Wf-tCGB6y"
      }
    },
    {
      "cell_type": "code",
      "source": [
        "def get_word_vector(word, word_to_vec):\n",
        "    # Try original case\n",
        "    if word in word_to_vec:\n",
        "        return word_to_vec[word]\n",
        "\n",
        "    # Try lowercase\n",
        "    if word.lower() in word_to_vec:\n",
        "        return word_to_vec[word.lower()]\n",
        "\n",
        "    # Try title case\n",
        "    if word.title() in word_to_vec:\n",
        "        return word_to_vec[word.title()]\n",
        "\n",
        "    return None\n",
        "\n",
        "def cosine_similarity_custom(vec1, vec2):\n",
        "    # Check if dimensions match\n",
        "    if vec1.shape[0] != vec2.shape[0]:\n",
        "        print(f\"Warning: Vector dimensions don't match: {vec1.shape[0]} vs {vec2.shape[0]}\")\n",
        "        return None\n",
        "\n",
        "    # Normalize vectors\n",
        "    vec1_norm = vec1 / np.linalg.norm(vec1)\n",
        "    vec2_norm = vec2 / np.linalg.norm(vec2)\n",
        "\n",
        "    # Calculate cosine similarity\n",
        "    return np.dot(vec1_norm, vec2_norm)\n",
        "\n",
        "def find_closest_words(target_vector, word_to_vec, exclude_words=None, top_k=10):\n",
        "    if exclude_words is None:\n",
        "        exclude_words = []\n",
        "\n",
        "    exclude_words_lower = [word.lower() for word in exclude_words]\n",
        "\n",
        "    similarities = []\n",
        "    target_norm = target_vector / np.linalg.norm(target_vector)\n",
        "    target_dim = target_vector.shape[0]\n",
        "\n",
        "    for word, vector in word_to_vec.items():\n",
        "        # Skip excluded words\n",
        "        if word.lower() in exclude_words_lower:\n",
        "            continue\n",
        "\n",
        "        # Skip vectors with different dimensions\n",
        "        if vector.shape[0] != target_dim:\n",
        "            continue\n",
        "\n",
        "        # Calculate similarity\n",
        "        vector_norm = vector / np.linalg.norm(vector)\n",
        "        similarity = np.dot(target_norm, vector_norm)\n",
        "        similarities.append((word, similarity))\n",
        "\n",
        "    # Sort by similarity (descending) and return top k\n",
        "    similarities.sort(key=lambda x: x[1], reverse=True)\n",
        "    return similarities[:top_k]\n",
        "def solve_analogy(word_a, word_b, word_c, word_to_vec, top_k=10):\n",
        "    print(f\"Formula: {word_a} - {word_b} + {word_c}\")\n",
        "\n",
        "    # Get vectors for input words\n",
        "    vec_a = get_word_vector(word_a, word_to_vec)\n",
        "    vec_b = get_word_vector(word_b, word_to_vec)\n",
        "    vec_c = get_word_vector(word_c, word_to_vec)\n",
        "\n",
        "    # Check if all words exist\n",
        "    missing_words = []\n",
        "    if vec_a is None:\n",
        "        missing_words.append(word_a)\n",
        "    if vec_b is None:\n",
        "        missing_words.append(word_b)\n",
        "    if vec_c is None:\n",
        "        missing_words.append(word_c)\n",
        "\n",
        "    if missing_words:\n",
        "        print(f\"Words not found in vocabulary: {missing_words}\")\n",
        "        return False, [], None\n",
        "\n",
        "    # Check vector dimensions\n",
        "    dimensions = [vec_a.shape[0], vec_b.shape[0], vec_c.shape[0]]\n",
        "    if len(set(dimensions)) > 1:\n",
        "        print(f\"Vector dimensions don't match: {word_a}({dimensions[0]}), {word_b}({dimensions[1]}), {word_c}({dimensions[2]})\")\n",
        "        return False, [], None\n",
        "\n",
        "    # Calculate analogy vector: word_a - word_b + word_c\n",
        "    analogy_vector = vec_a - vec_b + vec_c\n",
        "\n",
        "    # Find closest words (exclude input words)\n",
        "    exclude_words = [word_a, word_b, word_c]\n",
        "    closest_words = find_closest_words(analogy_vector, word_to_vec, exclude_words, top_k)\n",
        "\n",
        "    print(f\"Top {top_k} results:\")\n",
        "    for i, (word, similarity) in enumerate(closest_words, 1):\n",
        "        print(f\"{i:2d}. {word:<15} (similarity: {similarity:.4f})\")\n",
        "\n",
        "    return True, closest_words, analogy_vector"
      ],
      "metadata": {
        "id": "HgaZLzLsGLLi"
      },
      "execution_count": 73,
      "outputs": []
    },
    {
      "cell_type": "markdown",
      "source": [
        "# Step 4: Test the Main Analogy - Queen - Woman + Man"
      ],
      "metadata": {
        "id": "x0m-tpaFH1bR"
      }
    },
    {
      "cell_type": "code",
      "source": [
        "print(\"\\n=== STEP 5: Main Analogy Test ===\")\n",
        "print(\"Testing: Queen - Woman + Man = ?\")\n",
        "\n",
        "# Solve the main analogy\n",
        "success, results, analogy_vec = solve_analogy(\"queen\", \"woman\", \"man\", word_to_vec, top_k=15)\n",
        "\n",
        "if success:\n",
        "    top_result = results[0]\n",
        "    print(f\"\\nExpected: 'king'\")\n",
        "    print(f\"Got: '{top_result[0]}' (similarity: {top_result[1]:.4f})\")\n",
        "\n",
        "    # Check if \"king\" is in top results\n",
        "    king_found = False\n",
        "    king_position = None\n",
        "    for i, (word, similarity) in enumerate(results):\n",
        "        if word.lower() == \"king\":\n",
        "            king_found = True\n",
        "            king_position = i + 1\n",
        "            print(f\"'King' found at position {king_position} with similarity {similarity:.4f}\")\n",
        "            break\n",
        "\n",
        "    if not king_found:\n",
        "        print(\"'King' not found in top 15 results\")\n",
        "\n",
        "    # Additional analysis\n",
        "    print(f\"\\nAnalysis:\")\n",
        "    print(f\"- Most similar word: {results[0][0]}\")\n",
        "    print(f\"- Similarity score: {results[0][1]:.4f}\")\n",
        "    if king_found:\n",
        "        print(f\"- King position: {king_position}\")\n",
        "        print(f\"- King similarity: {results[king_position-1][1]:.4f}\")"
      ],
      "metadata": {
        "colab": {
          "base_uri": "https://localhost:8080/"
        },
        "id": "0UhC3_CVH5pJ",
        "outputId": "90bec826-cac5-4708-f823-e5e37b1c1936"
      },
      "execution_count": 64,
      "outputs": [
        {
          "output_type": "stream",
          "name": "stdout",
          "text": [
            "\n",
            "=== STEP 5: Main Analogy Test ===\n",
            "Testing: Queen - Woman + Man = ?\n",
            "Formula: queen - woman + man\n",
            "Top 15 results:\n",
            " 1. king            (similarity: 0.7941)\n",
            " 2. royal           (similarity: 0.6839)\n",
            " 3. prince          (similarity: 0.6763)\n",
            " 4. crown           (similarity: 0.6331)\n",
            " 5. vi              (similarity: 0.6275)\n",
            " 6. majesty         (similarity: 0.6232)\n",
            " 7. princess        (similarity: 0.6215)\n",
            " 8. lord            (similarity: 0.6148)\n",
            " 9. palace          (similarity: 0.6117)\n",
            "10. great           (similarity: 0.6030)\n",
            "11. monarch         (similarity: 0.5928)\n",
            "12. ii              (similarity: 0.5923)\n",
            "13. sir             (similarity: 0.5908)\n",
            "14. coronation      (similarity: 0.5889)\n",
            "15. george          (similarity: 0.5813)\n",
            "\n",
            "Expected: 'king'\n",
            "Got: 'king' (similarity: 0.7941)\n",
            "'King' found at position 1 with similarity 0.7941\n",
            "\n",
            "Analysis:\n",
            "- Most similar word: king\n",
            "- Similarity score: 0.7941\n",
            "- King position: 1\n",
            "- King similarity: 0.7941\n"
          ]
        }
      ]
    },
    {
      "cell_type": "markdown",
      "source": [
        "# Step 8: Detailed Analysis of Vector Operations"
      ],
      "metadata": {
        "id": "EDWcyTIuJ-6u"
      }
    },
    {
      "cell_type": "code",
      "source": [
        "def analyze_vector_operations(word_a, word_b, word_c, word_to_vec, expected_word=None):\n",
        "    print(f\"\\nDetailed analysis for: {word_a} - {word_b} + {word_c}\")\n",
        "\n",
        "    vec_a = get_word_vector(word_a, word_to_vec)\n",
        "    vec_b = get_word_vector(word_b, word_to_vec)\n",
        "    vec_c = get_word_vector(word_c, word_to_vec)\n",
        "\n",
        "    if any(v is None for v in [vec_a, vec_b, vec_c]):\n",
        "        print(\"Some input words not found in vocabulary\")\n",
        "        return\n",
        "\n",
        "    # Check dimensions\n",
        "    dimensions = [vec_a.shape[0], vec_b.shape[0], vec_c.shape[0]]\n",
        "    if len(set(dimensions)) > 1:\n",
        "        print(f\"Vector dimensions don't match: {word_a}({dimensions[0]}), {word_b}({dimensions[1]}), {word_c}({dimensions[2]})\")\n",
        "        return\n",
        "\n",
        "    # Calculate intermediate vectors\n",
        "    diff_vector = vec_a - vec_b  # Direction from word_a to word_b\n",
        "    result_vector = diff_vector + vec_c  # Apply same direction to word_c\n",
        "\n",
        "    print(f\" Vector norms:\")\n",
        "    print(f\"  {word_a}: {np.linalg.norm(vec_a):.3f}\")\n",
        "    print(f\"  {word_b}: {np.linalg.norm(vec_b):.3f}\")\n",
        "    print(f\"  {word_c}: {np.linalg.norm(vec_c):.3f}\")\n",
        "    print(f\"  Difference ({word_a} - {word_b}): {np.linalg.norm(diff_vector):.3f}\")\n",
        "    print(f\"  Result vector: {np.linalg.norm(result_vector):.3f}\")\n",
        "\n",
        "    # Similarity between input words\n",
        "    sim_ab = cosine_similarity_custom(vec_a, vec_b)\n",
        "    sim_ac = cosine_similarity_custom(vec_a, vec_c)\n",
        "    sim_bc = cosine_similarity_custom(vec_b, vec_c)\n",
        "\n",
        "\n",
        "    print(f\"\\nPairwise similarities:\")\n",
        "    if sim_ab is not None:\n",
        "        print(f\"  {word_a} ↔ {word_b}: {sim_ab:.3f}\")\n",
        "    if sim_ac is not None:\n",
        "        print(f\"  {word_a} ↔ {word_c}: {sim_ac:.3f}\")\n",
        "    if sim_bc is not None:\n",
        "        print(f\"  {word_b} ↔ {word_c}: {sim_bc:.3f}\")\n",
        "\n",
        "    # Analysis of the expected word\n",
        "    if expected_word:\n",
        "        vec_expected = get_word_vector(expected_word, word_to_vec)\n",
        "        if vec_expected is None:\n",
        "            print(f\"\\nExpected word '{expected_word}' not found in vocabulary.\")\n",
        "        elif vec_expected.shape[0] != result_vector.shape[0]:\n",
        "             print(f\"\\nExpected word vector dimension mismatch: {expected_word}({vec_expected.shape[0]}) vs result vector({result_vector.shape[0]})\")\n",
        "        else:\n",
        "            sim_expected = cosine_similarity_custom(result_vector, vec_expected)\n",
        "            print(f\"\\nAnalysis of Expected Word ('{expected_word}'):\")\n",
        "            print(f\"Similarity to result vector: {sim_expected:.4f}\")\n",
        "\n",
        "\n",
        "# Analyze the main analogy\n",
        "analyze_vector_operations(\"queen\", \"woman\", \"man\", word_to_vec, expected_word=\"king\")"
      ],
      "metadata": {
        "colab": {
          "base_uri": "https://localhost:8080/"
        },
        "id": "Pj31XpR-J_cM",
        "outputId": "efafa2ae-0eb7-46b9-be33-8c0d63a210a4"
      },
      "execution_count": 22,
      "outputs": [
        {
          "output_type": "stream",
          "name": "stdout",
          "text": [
            "\n",
            "Detailed analysis for: queen - woman + man\n",
            " Vector norms:\n",
            "  queen: 6.007\n",
            "  woman: 5.962\n",
            "  man: 5.594\n",
            "  Difference (queen - woman): 5.927\n",
            "  Result vector: 6.539\n",
            "\n",
            "Pairwise similarities:\n",
            "  queen ↔ woman: 0.510\n",
            "  queen ↔ man: 0.474\n",
            "  woman ↔ man: 0.832\n",
            "\n",
            "Analysis of Expected Word ('king'):\n",
            "Similarity to result vector: 0.7941\n"
          ]
        }
      ]
    },
    {
      "cell_type": "markdown",
      "source": [
        "# Problem 03:\n",
        "\n",
        "Select Reuters corpus and load the text data. Preprocess the text by tokenizing, converting to lowercase. Train Word2Vec models using both Skipgram and CBOW on your chosen corpus  (gensim.models.Word2Vec). Evaluate the trained models on word similarity tasks and the same analogy tasks from the previous questions. Select the most frequent 30 words from your train corpus. Apply a dimensionality reduction technique (PCA: sklearn.decomposition.PCA) to the embedding vectors for these words. Plot the resulting 2D projection. Label each point with its corresponding word to observe clusters or semantic groupings. Compare the results of both models."
      ],
      "metadata": {
        "id": "XmuzWdD8Zthq"
      }
    },
    {
      "cell_type": "markdown",
      "source": [
        "# Step 2:Load Reuters Corpus"
      ],
      "metadata": {
        "id": "nv2Bx3i4cZr_"
      }
    },
    {
      "cell_type": "code",
      "source": [
        "print(\"Loading Reuters corpus...\")\n",
        "file_ids = reuters.fileids()\n",
        "print(f\"Total Reuters files: {len(file_ids)}\")\n",
        "\n",
        "# Get corpus statistics\n",
        "categories = reuters.categories()\n",
        "print(f\"Number of categories: {len(categories)}\")\n",
        "print(f\"Sample categories: {categories[:10]}\")\n"
      ],
      "metadata": {
        "colab": {
          "base_uri": "https://localhost:8080/"
        },
        "id": "Dpe-rdT6Zy6l",
        "outputId": "477327f2-42bd-4143-989e-6b7a332421c6"
      },
      "execution_count": 23,
      "outputs": [
        {
          "output_type": "stream",
          "name": "stdout",
          "text": [
            "Loading Reuters corpus...\n",
            "Total Reuters files: 10788\n",
            "Number of categories: 90\n",
            "Sample categories: ['acq', 'alum', 'barley', 'bop', 'carcass', 'castor-oil', 'cocoa', 'coconut', 'coconut-oil', 'coffee']\n"
          ]
        }
      ]
    },
    {
      "cell_type": "markdown",
      "source": [
        "# Step 3: Text Preprocessing"
      ],
      "metadata": {
        "id": "ItfGIKC6c2MH"
      }
    },
    {
      "cell_type": "code",
      "source": [
        "def preprocess_text(text):\n",
        "    \"\"\"Preprocess text for Word2Vec training\"\"\"\n",
        "    if not text or len(text.strip()) == 0:\n",
        "        return []\n",
        "\n",
        "    # Convert to lowercase and clean text\n",
        "    text = text.lower()\n",
        "    text = re.sub(r'[^a-zA-Z\\s]', ' ', text)\n",
        "    text = re.sub(r'\\s+', ' ', text).strip()\n",
        "\n",
        "    # Tokenize\n",
        "    tokens = word_tokenize(text)\n",
        "\n",
        "    # Get stop words\n",
        "    stop_words = set(stopwords.words('english'))\n",
        "\n",
        "    # Filter tokens\n",
        "    tokens = [token.strip() for token in tokens if token.strip() and len(token.strip()) > 2 and token.strip() not in stop_words]\n",
        "    return tokens\n",
        "\n",
        "def load_reuters_corpus():\n",
        "    \"\"\"Load and preprocess Reuters corpus\"\"\"\n",
        "    print(\"Processing Reuters documents...\")\n",
        "    start_time = time.time()\n",
        "\n",
        "    sentences = []\n",
        "    total_tokens = 0\n",
        "    doc_count = 0\n",
        "    empty_count = 0\n",
        "\n",
        "    file_ids = reuters.fileids()\n",
        "    file_ids_limited = file_ids[:]\n",
        "    print(f\"Processing first {len(file_ids_limited)} out of {len(file_ids)} files...\")\n",
        "\n",
        "    for i, file_id in enumerate(file_ids_limited):\n",
        "        # Get raw text\n",
        "        text = reuters.raw(file_id)\n",
        "\n",
        "        # Check if text is empty\n",
        "        if not text or len(text.strip()) == 0:\n",
        "            empty_count += 1\n",
        "            if i < 10:\n",
        "                print(f\"  Doc {i+1}: Empty text\")\n",
        "            continue\n",
        "\n",
        "        # Preprocess\n",
        "        tokens = preprocess_text(text)\n",
        "\n",
        "        if len(tokens) > 5:  # Only include docs with more than 5 tokens\n",
        "            sentences.append(tokens)\n",
        "            total_tokens += len(tokens)\n",
        "            doc_count += 1\n",
        "\n",
        "            if doc_count % 1000 == 0:\n",
        "                print(f\"Processed {doc_count} documents, {total_tokens:,} tokens\")\n",
        "        else:\n",
        "            if i < 20:  # Debug first 20 docs\n",
        "                print(f\"  Doc {i+1}: Too short ({len(tokens)} tokens)\")\n",
        "\n",
        "    processing_time = time.time() - start_time\n",
        "\n",
        "\n",
        "    all_tokens = [token for sentence in sentences for token in sentence]\n",
        "    vocab_counter = Counter(all_tokens)\n",
        "\n",
        "    stats = {\n",
        "        'documents': len(sentences),\n",
        "        'total_tokens': total_tokens,\n",
        "        'unique_tokens': len(vocab_counter),\n",
        "        'avg_doc_length': total_tokens / len(sentences) if sentences else 0,\n",
        "        'processing_time': processing_time,\n",
        "        'empty_count': empty_count\n",
        "    }\n",
        "\n",
        "    print(f\"\\nCorpus Statistics:\")\n",
        "    print(f\"  Documents processed: {stats['documents']:,}\")\n",
        "    print(f\"  Total tokens: {stats['total_tokens']:,}\")\n",
        "    print(f\"  Unique tokens: {stats['unique_tokens']:,}\")\n",
        "    print(f\"  Average document length: {stats['avg_doc_length']:.1f} tokens\")\n",
        "    print(f\"  Processing time: {stats['processing_time']:.2f} seconds\")\n",
        "    print(f\"  Empty documents: {stats['empty_count']}\")\n",
        "\n",
        "\n",
        "    return sentences, vocab_counter, stats\n",
        "\n",
        "# Load the corpus\n",
        "sentences, vocab_counter, corpus_stats = load_reuters_corpus()"
      ],
      "metadata": {
        "colab": {
          "base_uri": "https://localhost:8080/"
        },
        "id": "chJVs0fNeJxh",
        "outputId": "dd47d29b-e5f4-4bed-bae5-77b6fdfdb74f"
      },
      "execution_count": 47,
      "outputs": [
        {
          "output_type": "stream",
          "name": "stdout",
          "text": [
            "Processing Reuters documents...\n",
            "Processing first 10788 out of 10788 files...\n",
            "Processed 1000 documents, 75,214 tokens\n",
            "Processed 2000 documents, 156,168 tokens\n",
            "Processed 3000 documents, 220,110 tokens\n",
            "Processed 4000 documents, 303,678 tokens\n",
            "Processed 5000 documents, 379,063 tokens\n",
            "Processed 6000 documents, 455,685 tokens\n",
            "Processed 7000 documents, 538,158 tokens\n",
            "Processed 8000 documents, 613,407 tokens\n",
            "Processed 9000 documents, 691,840 tokens\n",
            "Processed 10000 documents, 772,567 tokens\n",
            "\n",
            "Corpus Statistics:\n",
            "  Documents processed: 10,727\n",
            "  Total tokens: 830,923\n",
            "  Unique tokens: 28,722\n",
            "  Average document length: 77.5 tokens\n",
            "  Processing time: 10.44 seconds\n",
            "  Empty documents: 0\n"
          ]
        }
      ]
    },
    {
      "cell_type": "markdown",
      "source": [
        "# Step 4: Most Frequent Words Analysis"
      ],
      "metadata": {
        "id": "INCIF-2BhMT4"
      }
    },
    {
      "cell_type": "code",
      "source": [
        "most_frequent_words = [word for word, count in vocab_counter.most_common(30)]\n",
        "print(\"Top 30 most frequent words:\")\n",
        "for i, (word, count) in enumerate(vocab_counter.most_common(30), 1):\n",
        "    print(f\"{i:2d}. {word:<15} ({count:,} occurrences)\")\n",
        "\n",
        "# Visualize word frequency\n",
        "plt.figure(figsize=(15, 5))\n",
        "\n",
        "plt.subplot(1, 2, 1)\n",
        "words, counts = zip(*vocab_counter.most_common(30))\n",
        "plt.bar(range(len(words)), counts, color='skyblue', alpha=0.7)\n",
        "plt.title('Top 30 Most Frequent Words')\n",
        "plt.xlabel('Word Rank')\n",
        "plt.ylabel('Frequency')\n",
        "plt.xticks(range(0, len(words), 5), [words[i] for i in range(0, len(words), 5)], rotation=45)\n",
        "\n",
        "plt.subplot(1, 2, 2)\n",
        "all_counts = list(vocab_counter.values())\n",
        "plt.hist(all_counts, bins=50, alpha=0.7, color='lightgreen', edgecolor='black')\n",
        "plt.title('Word Frequency Distribution')\n",
        "plt.xlabel('Frequency')\n",
        "plt.ylabel('Number of Words')\n",
        "plt.yscale('log')\n",
        "plt.xscale('log')\n",
        "\n",
        "plt.tight_layout()\n",
        "plt.show()\n"
      ],
      "metadata": {
        "colab": {
          "base_uri": "https://localhost:8080/",
          "height": 1000
        },
        "id": "R7L90t7nhPLO",
        "outputId": "580d7767-2f4c-47db-f754-63d3d41cb088"
      },
      "execution_count": 48,
      "outputs": [
        {
          "output_type": "stream",
          "name": "stdout",
          "text": [
            "Top 30 most frequent words:\n",
            " 1. said            (25,383 occurrences)\n",
            " 2. mln             (18,623 occurrences)\n",
            " 3. dlrs            (12,417 occurrences)\n",
            " 4. pct             (9,810 occurrences)\n",
            " 5. cts             (8,361 occurrences)\n",
            " 6. year            (7,529 occurrences)\n",
            " 7. net             (6,989 occurrences)\n",
            " 8. billion         (5,829 occurrences)\n",
            " 9. loss            (5,124 occurrences)\n",
            "10. would           (4,673 occurrences)\n",
            "11. company         (4,670 occurrences)\n",
            "12. shr             (4,182 occurrences)\n",
            "13. inc             (4,121 occurrences)\n",
            "14. bank            (3,654 occurrences)\n",
            "15. corp            (3,399 occurrences)\n",
            "16. oil             (3,272 occurrences)\n",
            "17. last            (3,243 occurrences)\n",
            "18. share           (3,160 occurrences)\n",
            "19. trade           (3,098 occurrences)\n",
            "20. one             (2,963 occurrences)\n",
            "21. profit          (2,960 occurrences)\n",
            "22. market          (2,811 occurrences)\n",
            "23. new             (2,716 occurrences)\n",
            "24. qtr             (2,674 occurrences)\n",
            "25. two             (2,665 occurrences)\n",
            "26. shares          (2,652 occurrences)\n",
            "27. stock           (2,629 occurrences)\n",
            "28. also            (2,532 occurrences)\n",
            "29. tonnes          (2,511 occurrences)\n",
            "30. revs            (2,312 occurrences)\n"
          ]
        },
        {
          "output_type": "display_data",
          "data": {
            "text/plain": [
              "<Figure size 1500x500 with 2 Axes>"
            ],
            "image/png": "[encoded data removed]"
          },
          "metadata": {}
        }
      ]
    },
    {
      "cell_type": "markdown",
      "source": [
        "# Step 5: Word2Vec Model Training"
      ],
      "metadata": {
        "id": "UvlDLbv5hQn2"
      }
    },
    {
      "cell_type": "code",
      "source": [
        "def train_word2vec_models(sentences):\n",
        "    \"\"\"Train both Skip-gram and CBOW models\"\"\"\n",
        "    print(\"Training Word2Vec models...\")\n",
        "\n",
        "    common_params = {\n",
        "        'vector_size': 100,\n",
        "        'window': 5,\n",
        "        'min_count': 5,\n",
        "        'workers': 4,\n",
        "        'epochs': 10,\n",
        "        'seed': 42\n",
        "    }\n",
        "\n",
        "    # Train Skip-gram\n",
        "    print(\"\\nTraining Skip-gram model...\")\n",
        "    start_time = time.time()\n",
        "    skipgram_model = Word2Vec(sentences=sentences, sg=1, **common_params)\n",
        "    skipgram_time = time.time() - start_time\n",
        "    print(f\"Skip-gram completed in {skipgram_time:.2f} seconds\")\n",
        "\n",
        "    # Train CBOW\n",
        "    print(\"\\nTraining CBOW model...\")\n",
        "    start_time = time.time()\n",
        "    cbow_model = Word2Vec(sentences=sentences, sg=0, **common_params)\n",
        "    cbow_time = time.time() - start_time\n",
        "    print(f\"CBOW completed in {cbow_time:.2f} seconds\")\n",
        "\n",
        "    stats = {\n",
        "        'skipgram_vocab_size': len(skipgram_model.wv.key_to_index),\n",
        "        'cbow_vocab_size': len(cbow_model.wv.key_to_index),\n",
        "        'skipgram_training_time': skipgram_time,\n",
        "        'cbow_training_time': cbow_time,\n",
        "        'embedding_dim': common_params['vector_size'],\n",
        "        'window_size': common_params['window']\n",
        "    }\n",
        "\n",
        "    print(f\"\\nModel Statistics:\")\n",
        "    print(f\"  Skip-gram vocabulary: {stats['skipgram_vocab_size']:,}\")\n",
        "    print(f\"  CBOW vocabulary: {stats['cbow_vocab_size']:,}\")\n",
        "    print(f\"  Embedding dimension: {stats['embedding_dim']}\")\n",
        "\n",
        "    return skipgram_model, cbow_model, stats\n",
        "\n",
        "# Train models\n",
        "skipgram_model, cbow_model, training_stats = train_word2vec_models(sentences)\n"
      ],
      "metadata": {
        "colab": {
          "base_uri": "https://localhost:8080/"
        },
        "id": "IsQecEOAhSnt",
        "outputId": "a48cea6b-1aa8-4d6e-8c1c-7442ca302ba9"
      },
      "execution_count": 49,
      "outputs": [
        {
          "output_type": "stream",
          "name": "stdout",
          "text": [
            "Training Word2Vec models...\n",
            "\n",
            "Training Skip-gram model...\n",
            "Skip-gram completed in 54.95 seconds\n",
            "\n",
            "Training CBOW model...\n",
            "CBOW completed in 16.01 seconds\n",
            "\n",
            "Model Statistics:\n",
            "  Skip-gram vocabulary: 10,137\n",
            "  CBOW vocabulary: 10,137\n",
            "  Embedding dimension: 100\n"
          ]
        }
      ]
    },
    {
      "cell_type": "markdown",
      "source": [
        "# Step 6: Word Similarity Evaluation"
      ],
      "metadata": {
        "id": "bAgL8rZUhWgw"
      }
    },
    {
      "cell_type": "code",
      "source": [
        "def evaluate_word_similarity(skipgram_model, cbow_model):\n",
        "    print(\"Evaluating word similarity...\")\n",
        "\n",
        "    similarity_tests = [\n",
        "        ('king', 'queen'), ('man', 'woman'), ('company', 'business'),\n",
        "        ('government', 'political'), ('market', 'economic'), ('bank', 'financial')\n",
        "    ]\n",
        "\n",
        "    results = {'skipgram': [], 'cbow': []}\n",
        "\n",
        "    print(f\"\\n Word Similarity Comparisons:\")\n",
        "    print(f\"{'Word Pair':<20} {'Skip-gram':<12} {'CBOW':<12} {'Difference':<12}\")\n",
        "    print(\"-\" * 60)\n",
        "\n",
        "    for word1, word2 in similarity_tests:\n",
        "        try:\n",
        "            # Skip-gram similarity\n",
        "            if word1 in skipgram_model.wv and word2 in skipgram_model.wv:\n",
        "                vec1_sg = skipgram_model.wv[word1]\n",
        "                vec2_sg = skipgram_model.wv[word2]\n",
        "                sg_sim = cosine_similarity_custom(vec1_sg, vec2_sg)  # From Q2\n",
        "            else:\n",
        "                sg_sim = None\n",
        "\n",
        "            # CBOW similarity\n",
        "            if word1 in cbow_model.wv and word2 in cbow_model.wv:\n",
        "                vec1_cbow = cbow_model.wv[word1]\n",
        "                vec2_cbow = cbow_model.wv[word2]\n",
        "                cbow_sim = cosine_similarity_custom(vec1_cbow, vec2_cbow)  # From Q2\n",
        "            else:\n",
        "                cbow_sim = None\n",
        "\n",
        "            if sg_sim is not None and cbow_sim is not None:\n",
        "                diff = abs(sg_sim - cbow_sim)\n",
        "                results['skipgram'].append(sg_sim)\n",
        "                results['cbow'].append(cbow_sim)\n",
        "                print(f\"{word1}-{word2:<15} {sg_sim:<12.3f} {cbow_sim:<12.3f} {diff:<12.3f}\")\n",
        "            else:\n",
        "                print(f\"{word1}-{word2:<15} {'Missing':<12} {'Missing':<12} {'N/A':<12}\")\n",
        "\n",
        "        except Exception:\n",
        "            print(f\"{word1}-{word2:<15} {'Error':<12} {'Error':<12} {'N/A':<12}\")\n",
        "\n",
        "    return results\n",
        "\n",
        "# Evaluate similarity\n",
        "similarity_results = evaluate_word_similarity(skipgram_model, cbow_model)\n"
      ],
      "metadata": {
        "colab": {
          "base_uri": "https://localhost:8080/"
        },
        "id": "ImUCK119hZTS",
        "outputId": "27309671-8f18-4331-c21b-ff65c0887054"
      },
      "execution_count": 51,
      "outputs": [
        {
          "output_type": "stream",
          "name": "stdout",
          "text": [
            "Evaluating word similarity...\n",
            "\n",
            " Word Similarity Comparisons:\n",
            "Word Pair            Skip-gram    CBOW         Difference  \n",
            "------------------------------------------------------------\n",
            "king-queen           0.372        0.423        0.051       \n",
            "man-woman           Missing      Missing      N/A         \n",
            "company-business        0.352        0.206        0.146       \n",
            "government-political       0.475        0.311        0.164       \n",
            "market-economic        0.305        0.133        0.172       \n",
            "bank-financial       0.277        0.307        0.030       \n"
          ]
        }
      ]
    },
    {
      "cell_type": "markdown",
      "source": [
        "# Step 7: Analogy Task Evaluation"
      ],
      "metadata": {
        "id": "sAxwTsECixFt"
      }
    },
    {
      "cell_type": "code",
      "source": [
        "def evaluate_analogies(skipgram_model, cbow_model):\n",
        "    \"\"\"Evaluate analogies using both Word2Vec built-in and custom methods\"\"\"\n",
        "    print(\"Evaluating analogy performance...\")\n",
        "\n",
        "    analogy_tests = [\n",
        "        # Financial/Business analogies more suitable for Reuters corpus\n",
        "        ('banking', 'bank', 'trade', 'trading'),\n",
        "        ('companies','company', 'market', 'markets'),\n",
        "        ('dollars', 'dollar', 'share', 'shares'),\n",
        "        ('governmental','government', 'economy', 'economic'),\n",
        "        ('investment','invest', 'develop', 'development'),\n",
        "        ('selling','sell', 'buy', 'buying')\n",
        "    ]\n",
        "\n",
        "    results = {'skipgram': [], 'cbow': []}\n",
        "\n",
        "    print(f\"\\nAnalogy Task Results (Word2Vec built-in):\")\n",
        "    print(f\"{'Analogy':<25} {'Skip-gram':<15} {'CBOW':<15} {'Expected':<10}\")\n",
        "    print(\"-\" * 70)\n",
        "\n",
        "    for word_a, word_b, word_c, expected in analogy_tests:\n",
        "        # Skip-gram analogy (Correct formula: word_b - word_a + word_c)\n",
        "        try:\n",
        "            if all(word in skipgram_model.wv for word in [word_a, word_b, word_c]):\n",
        "                sg_result = skipgram_model.wv.most_similar(positive=[word_a, word_c], negative=[word_b], topn=1)[0]\n",
        "                sg_top_word = sg_result[0]\n",
        "            else:\n",
        "                sg_top_word = \"Missing\"\n",
        "        except:\n",
        "            sg_top_word = \"Error\"\n",
        "\n",
        "        # CBOW analogy (Correct formula: word_b - word_a + word_c)\n",
        "        try:\n",
        "            if all(word in cbow_model.wv for word in [word_a, word_b, word_c]):\n",
        "                cbow_result = cbow_model.wv.most_similar(positive=[word_a, word_c], negative=[word_b], topn=1)[0]\n",
        "                cbow_top_word = cbow_result[0]\n",
        "            else:\n",
        "                cbow_top_word = \"Missing\"\n",
        "        except:\n",
        "            cbow_top_word = \"Error\"\n",
        "\n",
        "        analogy_desc = f\"{word_a}-{word_b}+{word_c}\"\n",
        "        print(f\"{analogy_desc:<25} {sg_top_word:<15} {cbow_top_word:<15} {expected:<10}\")\n",
        "\n",
        "        results['skipgram'].append({\n",
        "            'analogy': analogy_desc,\n",
        "            'result': sg_top_word,\n",
        "            'expected': expected,\n",
        "            'correct': sg_top_word.lower() == expected.lower()\n",
        "        })\n",
        "\n",
        "        results['cbow'].append({\n",
        "            'analogy': analogy_desc,\n",
        "            'result': cbow_top_word,\n",
        "            'expected': expected,\n",
        "            'correct': cbow_top_word.lower() == expected.lower()\n",
        "        })\n",
        "\n",
        "    # Custom analogy evaluation using solve_analogy() from Question 2\n",
        "    print(f\"\\nCustom Analogy Evaluation (using solve_analogy from Q2):\")\n",
        "\n",
        "    def model_to_dict(model):\n",
        "        return {word: model.wv[word] for word in model.wv.key_to_index}\n",
        "\n",
        "    sg_word_to_vec = model_to_dict(skipgram_model)\n",
        "    cbow_word_to_vec = model_to_dict(cbow_model)\n",
        "\n",
        "    for word_a, word_b, word_c, expected in analogy_tests:\n",
        "        # Skip-gram evaluation using solve_analogy from Q2\n",
        "        print(\"Skip-gram results:\")\n",
        "        sg_success, sg_results, _ = solve_analogy(word_a, word_b, word_c, sg_word_to_vec, top_k=3)\n",
        "\n",
        "        # CBOW evaluation using solve_analogy from Q2\n",
        "        print(\"CBOW results:\")\n",
        "        cbow_success, cbow_results, _ = solve_analogy(word_a, word_b, word_c, cbow_word_to_vec, top_k=3)\n",
        "\n",
        "    return results\n",
        "\n",
        "# Evaluate analogies\n",
        "analogy_results = evaluate_analogies(skipgram_model, cbow_model)\n"
      ],
      "metadata": {
        "colab": {
          "base_uri": "https://localhost:8080/"
        },
        "id": "SabLN5zYiydk",
        "outputId": "6aca2101-33b5-452b-d8df-9924a30271f1"
      },
      "execution_count": 94,
      "outputs": [
        {
          "output_type": "stream",
          "name": "stdout",
          "text": [
            "Evaluating analogy performance...\n",
            "\n",
            " Analogy Task Results (Word2Vec built-in):\n",
            "Analogy                   Skip-gram       CBOW            Expected  \n",
            "----------------------------------------------------------------------\n",
            "banking-bank+trade        israeli         willy           trading   \n",
            "companies-company+market  markets         markets         markets   \n",
            "dollars-dollar+share      dlrs            valued          shares    \n",
            "governmental-government+economy maekawa         cites           economic  \n",
            "investment-invest+develop weighing        climate         development\n",
            "selling-sell+buy          buying          buying          buying    \n",
            "\n",
            "Custom Analogy Evaluation (using solve_analogy from Q2):\n",
            "Skip-gram results:\n",
            "Formula: banking - bank + trade\n",
            "Top 3 results:\n",
            " 1. israeli         (similarity: 0.4917)\n",
            " 2. testifying      (similarity: 0.4717)\n",
            " 3. outlining       (similarity: 0.4688)\n",
            "CBOW results:\n",
            "Formula: banking - bank + trade\n",
            "Top 3 results:\n",
            " 1. challenge       (similarity: 0.5093)\n",
            " 2. clercq          (similarity: 0.5087)\n",
            " 3. willy           (similarity: 0.5013)\n",
            "Skip-gram results:\n",
            "Formula: companies - company + market\n",
            "Top 3 results:\n",
            " 1. markets         (similarity: 0.5541)\n",
            " 2. persistent      (similarity: 0.5192)\n",
            " 3. physicals       (similarity: 0.5165)\n",
            "CBOW results:\n",
            "Formula: companies - company + market\n",
            "Top 3 results:\n",
            " 1. markets         (similarity: 0.6166)\n",
            " 2. speculative     (similarity: 0.5167)\n",
            " 3. pressure        (similarity: 0.5125)\n",
            "Skip-gram results:\n",
            "Formula: dollars - dollar + share\n",
            "Top 3 results:\n",
            " 1. dlrs            (similarity: 0.5553)\n",
            " 2. lifetime        (similarity: 0.5276)\n",
            " 3. lace            (similarity: 0.5209)\n",
            "CBOW results:\n",
            "Formula: dollars - dollar + share\n",
            "Top 3 results:\n",
            " 1. approximately   (similarity: 0.5807)\n",
            " 2. valued          (similarity: 0.5474)\n",
            " 3. spent           (similarity: 0.5269)\n",
            "Skip-gram results:\n",
            "Formula: governmental - government + economy\n",
            "Top 3 results:\n",
            " 1. economic        (similarity: 0.5883)\n",
            " 2. maekawa         (similarity: 0.5872)\n",
            " 3. economies       (similarity: 0.5523)\n",
            "CBOW results:\n",
            "Formula: governmental - government + economy\n",
            "Top 3 results:\n",
            " 1. performance     (similarity: 0.5403)\n",
            " 2. recession       (similarity: 0.5310)\n",
            " 3. activity        (similarity: 0.5306)\n",
            "Skip-gram results:\n",
            "Formula: investment - invest + develop\n",
            "Top 3 results:\n",
            " 1. weighing        (similarity: 0.5163)\n",
            " 2. regarding       (similarity: 0.4992)\n",
            " 3. advise          (similarity: 0.4810)\n",
            "CBOW results:\n",
            "Formula: investment - invest + develop\n",
            "Top 3 results:\n",
            " 1. investments     (similarity: 0.6979)\n",
            " 2. overseas        (similarity: 0.5979)\n",
            " 3. arbitrage       (similarity: 0.5875)\n",
            "Skip-gram results:\n",
            "Formula: selling - sell + buy\n",
            "Top 3 results:\n",
            " 1. buying          (similarity: 0.5702)\n",
            " 2. purchases       (similarity: 0.5248)\n",
            " 3. sellers         (similarity: 0.4900)\n",
            "CBOW results:\n",
            "Formula: selling - sell + buy\n",
            "Top 3 results:\n",
            " 1. buying          (similarity: 0.6217)\n",
            " 2. purchases       (similarity: 0.5903)\n",
            " 3. attractive      (similarity: 0.5730)\n"
          ]
        }
      ]
    },
    {
      "cell_type": "markdown",
      "source": [
        "# Step 8: PCA Visualization"
      ],
      "metadata": {
        "id": "yf68pRmLjDBN"
      }
    },
    {
      "cell_type": "code",
      "source": [
        "def visualize_embeddings_pca(skipgram_model, cbow_model, words_to_plot):\n",
        "    print(\"Creating PCA visualizations...\")\n",
        "\n",
        "    valid_words = [word for word in words_to_plot\n",
        "                   if word in skipgram_model.wv and word in cbow_model.wv]\n",
        "\n",
        "    if len(valid_words) < 10:\n",
        "        print(f\" Only {len(valid_words)} words available\")\n",
        "        return\n",
        "\n",
        "    print(f\"Visualizing {len(valid_words)} words\")\n",
        "\n",
        "    # Get embeddings\n",
        "    sg_embeddings = np.array([skipgram_model.wv[word] for word in valid_words])\n",
        "    cbow_embeddings = np.array([cbow_model.wv[word] for word in valid_words])\n",
        "\n",
        "    # Apply PCA\n",
        "    pca_sg = PCA(n_components=2, random_state=42)\n",
        "    sg_pca = pca_sg.fit_transform(sg_embeddings)\n",
        "\n",
        "    pca_cbow = PCA(n_components=2, random_state=42)\n",
        "    cbow_pca = pca_cbow.fit_transform(cbow_embeddings)\n",
        "\n",
        "    # Create visualization\n",
        "    fig, axes = plt.subplots(1, 2, figsize=(20, 8))\n",
        "\n",
        "    # Skip-gram plot\n",
        "    axes[0].scatter(sg_pca[:, 0], sg_pca[:, 1], c='blue', alpha=0.6, s=100)\n",
        "    for i, word in enumerate(valid_words):\n",
        "        axes[0].annotate(word, (sg_pca[i, 0], sg_pca[i, 1]), xytext=(5, 5),\n",
        "                        textcoords='offset points', fontsize=10, ha='left')\n",
        "    axes[0].set_title(f'Skip-gram Embeddings PCA\\\\nExplained Variance: {pca_sg.explained_variance_ratio_.sum():.2%}')\n",
        "    axes[0].set_xlabel(f'PC1 ({pca_sg.explained_variance_ratio_[0]:.1%})')\n",
        "    axes[0].set_ylabel(f'PC2 ({pca_sg.explained_variance_ratio_[1]:.1%})')\n",
        "    axes[0].grid(True, alpha=0.3)\n",
        "\n",
        "    # CBOW plot\n",
        "    axes[1].scatter(cbow_pca[:, 0], cbow_pca[:, 1], c='red', alpha=0.6, s=100)\n",
        "    for i, word in enumerate(valid_words):\n",
        "        axes[1].annotate(word, (cbow_pca[i, 0], cbow_pca[i, 1]), xytext=(5, 5),\n",
        "                        textcoords='offset points', fontsize=10, ha='left')\n",
        "    axes[1].set_title(f'CBOW Embeddings PCA\\\\nExplained Variance: {pca_cbow.explained_variance_ratio_.sum():.2%}')\n",
        "    axes[1].set_xlabel(f'PC1 ({pca_cbow.explained_variance_ratio_[0]:.1%})')\n",
        "    axes[1].set_ylabel(f'PC2 ({pca_cbow.explained_variance_ratio_[1]:.1%})')\n",
        "    axes[1].grid(True, alpha=0.3)\n",
        "\n",
        "    plt.tight_layout()\n",
        "    plt.show()\n",
        "\n",
        "    return valid_words\n",
        "\n",
        "# Create PCA visualization\n",
        "visualized_words = visualize_embeddings_pca(skipgram_model, cbow_model, most_frequent_words)"
      ],
      "metadata": {
        "colab": {
          "base_uri": "https://localhost:8080/",
          "height": 821
        },
        "id": "v4EzJNXyjDWi",
        "outputId": "9dd65bc5-c151-44c7-ca1c-a075f44c06de"
      },
      "execution_count": 86,
      "outputs": [
        {
          "output_type": "stream",
          "name": "stdout",
          "text": [
            "Creating PCA visualizations...\n",
            "Visualizing 30 words\n"
          ]
        },
        {
          "output_type": "display_data",
          "data": {
            "text/plain": [
              "<Figure size 2000x800 with 2 Axes>"
            ],
            "image/png": "[encoded data removed]"
          },
          "metadata": {}
        }
      ]
    },
    {
      "cell_type": "markdown",
      "source": [
        "# Step 9: Model Comparison Analysis"
      ],
      "metadata": {
        "id": "lshh1IOOjJQn"
      }
    },
    {
      "cell_type": "code",
      "source": [
        "def compare_models(similarity_results, analogy_results):\n",
        "\n",
        "    # Similarity comparison\n",
        "    if similarity_results['skipgram'] and similarity_results['cbow']:\n",
        "        sg_avg_sim = np.mean(similarity_results['skipgram'])\n",
        "        cbow_avg_sim = np.mean(similarity_results['cbow'])\n",
        "\n",
        "        print(f\"\\n Word Similarity Performance:\")\n",
        "        print(f\"  Skip-gram average: {sg_avg_sim:.3f}\")\n",
        "        print(f\"  CBOW average: {cbow_avg_sim:.3f}\")\n",
        "        print(f\"  Difference: {abs(sg_avg_sim - cbow_avg_sim):.3f}\")\n",
        "\n",
        "    # Analogy comparison\n",
        "    sg_correct = sum(1 for result in analogy_results['skipgram'] if result['correct'])\n",
        "    cbow_correct = sum(1 for result in analogy_results['cbow'] if result['correct'])\n",
        "    total_analogies = len(analogy_results['skipgram'])\n",
        "\n",
        "    print(f\"\\n Analogy Task Performance:\")\n",
        "    print(f\"  Skip-gram: {sg_correct}/{total_analogies} ({sg_correct/total_analogies*100:.1f}%)\")\n",
        "    print(f\"  CBOW: {cbow_correct}/{total_analogies} ({cbow_correct/total_analogies*100:.1f}%)\")\n",
        "\n",
        "    # Training efficiency\n",
        "    sg_time = training_stats['skipgram_training_time']\n",
        "    cbow_time = training_stats['cbow_training_time']\n",
        "\n",
        "    print(f\"\\n Training Efficiency:\")\n",
        "    print(f\"  Skip-gram: {sg_time:.2f} seconds\")\n",
        "    print(f\"  CBOW: {cbow_time:.2f} seconds\")\n",
        "\n",
        "    # Visualization\n",
        "    fig, axes = plt.subplots(2, 2, figsize=(15, 12))\n",
        "    fig.suptitle('Skip-gram vs CBOW Comparison', fontsize=16, fontweight='bold')\n",
        "\n",
        "    # Similarity comparison\n",
        "    if similarity_results['skipgram'] and similarity_results['cbow']:\n",
        "        ax1 = axes[0, 0]\n",
        "        x = np.arange(len(similarity_results['skipgram']))\n",
        "        width = 0.35\n",
        "\n",
        "        ax1.bar(x - width/2, similarity_results['skipgram'], width, label='Skip-gram', alpha=0.7)\n",
        "        ax1.bar(x + width/2, similarity_results['cbow'], width, label='CBOW', alpha=0.7)\n",
        "        ax1.set_title('Word Similarity Scores')\n",
        "        ax1.set_ylabel('Similarity Score')\n",
        "        ax1.legend()\n",
        "        ax1.grid(True, alpha=0.3)\n",
        "\n",
        "    # Analogy accuracy\n",
        "    ax2 = axes[0, 1]\n",
        "    models = ['Skip-gram', 'CBOW']\n",
        "    accuracies = [sg_correct/total_analogies*100, cbow_correct/total_analogies*100]\n",
        "    colors = ['blue', 'red']\n",
        "\n",
        "    bars = ax2.bar(models, accuracies, color=colors, alpha=0.7)\n",
        "    ax2.set_title('Analogy Accuracy')\n",
        "    ax2.set_ylabel('Accuracy (%)')\n",
        "    ax2.set_ylim(0, 100)\n",
        "\n",
        "    for bar, acc in zip(bars, accuracies):\n",
        "        ax2.text(bar.get_x() + bar.get_width()/2., bar.get_height() + 1,\n",
        "                f'{acc:.1f}%', ha='center', va='bottom')\n",
        "\n",
        "    # Training time\n",
        "    ax3 = axes[1, 0]\n",
        "    training_times = [sg_time, cbow_time]\n",
        "    bars = ax3.bar(models, training_times, color=colors, alpha=0.7)\n",
        "    ax3.set_title('Training Time')\n",
        "    ax3.set_ylabel('Time (seconds)')\n",
        "\n",
        "    for bar, time_val in zip(bars, training_times):\n",
        "        ax3.text(bar.get_x() + bar.get_width()/2., bar.get_height() + 0.1,\n",
        "                f'{time_val:.1f}s', ha='center', va='bottom')\n",
        "\n",
        "    # Vocabulary size\n",
        "    ax4 = axes[1, 1]\n",
        "    vocab_sizes = [training_stats['skipgram_vocab_size'], training_stats['cbow_vocab_size']]\n",
        "    bars = ax4.bar(models, vocab_sizes, color=colors, alpha=0.7)\n",
        "    ax4.set_title('Vocabulary Size')\n",
        "    ax4.set_ylabel('Number of Words')\n",
        "\n",
        "    for bar, vocab_size in zip(bars, vocab_sizes):\n",
        "        ax4.text(bar.get_x() + bar.get_width()/2., bar.get_height() + 50,\n",
        "                f'{vocab_size:,}', ha='center', va='bottom')\n",
        "\n",
        "    plt.tight_layout()\n",
        "    plt.show()\n",
        "\n",
        "# Run comparison\n",
        "compare_models(similarity_results, analogy_results)"
      ],
      "metadata": {
        "colab": {
          "base_uri": "https://localhost:8080/",
          "height": 1000
        },
        "id": "2UMhH81vjK3s",
        "outputId": "2154079e-706e-44d2-8e13-0820a63e5810"
      },
      "execution_count": 87,
      "outputs": [
        {
          "output_type": "stream",
          "name": "stdout",
          "text": [
            "\n",
            " Word Similarity Performance:\n",
            "  Skip-gram average: 0.356\n",
            "  CBOW average: 0.276\n",
            "  Difference: 0.080\n",
            "\n",
            " Analogy Task Performance:\n",
            "  Skip-gram: 2/6 (33.3%)\n",
            "  CBOW: 2/6 (33.3%)\n",
            "\n",
            " Training Efficiency:\n",
            "  Skip-gram: 54.95 seconds\n",
            "  CBOW: 16.01 seconds\n"
          ]
        },
        {
          "output_type": "display_data",
          "data": {
            "text/plain": [
              "<Figure size 1500x1200 with 4 Axes>"
            ],
            "image/png": "[encoded data removed]"
          },
          "metadata": {}
        }
      ]
    },
    {
      "cell_type": "markdown",
      "source": [
        "# Step 10: Final Summary"
      ],
      "metadata": {
        "id": "YGa1uBWajWgT"
      }
    },
    {
      "cell_type": "code",
      "source": [
        "print(f\" Reuters Corpus Analysis:\")\n",
        "print(f\"  Documents processed: {corpus_stats['documents']:,}\")\n",
        "print(f\"  Vocabulary size: {corpus_stats['unique_tokens']:,}\")\n",
        "\n",
        "print(f\"\\n Model Training:\")\n",
        "print(f\"  Skip-gram vocabulary: {training_stats['skipgram_vocab_size']:,}\")\n",
        "print(f\"  CBOW vocabulary: {training_stats['cbow_vocab_size']:,}\")\n",
        "\n",
        "sg_correct = sum(1 for result in analogy_results['skipgram'] if result['correct'])\n",
        "cbow_correct = sum(1 for result in analogy_results['cbow'] if result['correct'])\n",
        "total_analogies = len(analogy_results['skipgram'])\n",
        "\n",
        "if similarity_results['skipgram'] and similarity_results['cbow']:\n",
        "    sg_avg_sim = np.mean(similarity_results['skipgram'])\n",
        "    cbow_avg_sim = np.mean(similarity_results['cbow'])\n",
        "\n",
        "    print(f\"\\n Word Similarity Performance:\")\n",
        "    print(f\"  Skip-gram average: {sg_avg_sim:.3f}\")\n",
        "    print(f\"  CBOW average: {cbow_avg_sim:.3f}\")\n",
        "    print(f\"  Difference: {abs(sg_avg_sim - cbow_avg_sim):.3f}\")\n",
        "print(f\"\\n Analogy Performance:\")\n",
        "print(f\"  Skip-gram analogy accuracy: {sg_correct/total_analogies*100:.1f}%\")\n",
        "print(f\"  CBOW analogy accuracy: {cbow_correct/total_analogies*100:.1f}%\")\n",
        "\n",
        "print(f\"\\n Insights:\")\n",
        "print(f\"1. Both models learned word representations from Reuters corpus\")\n",
        "\n",
        "#Which model performed better on word similarity\n",
        "if sg_avg_sim > cbow_avg_sim:\n",
        "    better_similarity = \"Skip-gram\"\n",
        "elif sg_avg_sim < cbow_avg_sim:\n",
        "    better_similarity = \"CBOW\"\n",
        "else:\n",
        "    better_similarity = \"Both performed equally\"\n",
        "\n",
        "print(f\"2. {better_similarity} performed better on word similarity\")\n",
        "#Which model performed better on analogies\n",
        "if sg_correct > cbow_correct:\n",
        "    better_model = \"Skip-gram\"\n",
        "elif sg_correct < cbow_correct:\n",
        "    better_model = \"CBOW\"\n",
        "else:\n",
        "    better_model = \"Both performed equally\"\n",
        "\n",
        "print(f\"3. {better_model} performed better on analogies\")\n",
        "\n",
        "# Which model was faster to train\n",
        "if training_stats['cbow_training_time'] < training_stats['skipgram_training_time']:\n",
        "    faster_model = \"CBOW\"\n",
        "elif training_stats['cbow_training_time'] > training_stats['skipgram_training_time']:\n",
        "    faster_model = \"Skip-gram\"\n",
        "else:\n",
        "    faster_model = \"Both trained in the same time\"\n",
        "\n",
        "print(f\"4. {faster_model} was faster to train\")\n",
        "\n",
        "# PCA result\n",
        "print(f\"5. PCA shows semantic clustering of related words\")\n",
        "\n",
        "\n"
      ],
      "metadata": {
        "colab": {
          "base_uri": "https://localhost:8080/"
        },
        "id": "1BY7MRXNjYbd",
        "outputId": "ef6c85b0-df6e-460b-9206-b5ac2bcad39a"
      },
      "execution_count": 93,
      "outputs": [
        {
          "output_type": "stream",
          "name": "stdout",
          "text": [
            " Reuters Corpus Analysis:\n",
            "  Documents processed: 10,727\n",
            "  Vocabulary size: 28,722\n",
            "\n",
            " Model Training:\n",
            "  Skip-gram vocabulary: 10,137\n",
            "  CBOW vocabulary: 10,137\n",
            "\n",
            " Word Similarity Performance:\n",
            "  Skip-gram average: 0.356\n",
            "  CBOW average: 0.276\n",
            "  Difference: 0.080\n",
            "\n",
            " Analogy Performance:\n",
            "  Skip-gram analogy accuracy: 33.3%\n",
            "  CBOW analogy accuracy: 33.3%\n",
            "\n",
            " Insights:\n",
            "1. Both models learned word representations from Reuters corpus\n",
            "2. Skip-gram performed better on word similarity\n",
            "3. Both performed equally performed better on analogies\n",
            "4. CBOW was faster to train\n",
            "5. PCA shows semantic clustering of related words\n"
          ]
        }
      ]
    },
    {
      "cell_type": "code",
      "source": [],
      "metadata": {
        "id": "EDw5EbtmjW2P"
      },
      "execution_count": null,
      "outputs": []
    }
  ]
}